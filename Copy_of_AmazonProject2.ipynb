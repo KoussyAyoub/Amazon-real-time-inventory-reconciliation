{
  "nbformat": 4,
  "nbformat_minor": 0,
  "metadata": {
    "colab": {
      "provenance": []
    },
    "kernelspec": {
      "name": "python3",
      "display_name": "Python 3"
    },
    "language_info": {
      "name": "python"
    },
    "gpuClass": "standard",
    "accelerator": "GPU"
  },
  "cells": [
    {
      "cell_type": "code",
      "execution_count": 2,
      "metadata": {
        "id": "kQnIYTXuAgVs"
      },
      "outputs": [],
      "source": [
        "import cv2 \n",
        "import glob\n",
        "import os \n",
        "import numpy as np\n",
        "from google.colab.patches import cv2_imshow\n",
        "import json\n",
        "import sqlite3\n",
        "import pandas as pd\n",
        "from pprint import pprint\n",
        "from sklearn.model_selection import train_test_split\n",
        "import os\n",
        "from PIL import Image\n",
        "import matplotlib.pyplot as plt\n",
        "from numpy import asarray\n",
        "import keras\n",
        "import tensorflow as tf \n",
        "from sklearn.model_selection import train_test_split\n",
        "from sklearn.metrics import confusion_matrix, f1_score, classification_report\n",
        "from sklearn.preprocessing import StandardScaler\n",
        "from sklearn import preprocessing\n",
        "import tensorflow as tf \n",
        "import tensorflow.keras.backend as K\n",
        "from tensorflow.keras import Input,Sequential, initializers, optimizers, callbacks, layers, models\n",
        "from tensorflow.keras.layers import BatchNormalization, Dense, Dropout, Flatten, ReLU, Conv2D,MaxPooling2D,AveragePooling2D,GlobalAveragePooling2D\n",
        "from tensorflow.keras.metrics import AUC\n",
        "from tensorflow.keras.losses import CategoricalCrossentropy\n",
        "from tensorflow.keras.utils import to_categorical\n",
        "from tensorflow.keras.callbacks import TensorBoard, EarlyStopping\n",
        "from tensorflow.keras.preprocessing.image import ImageDataGenerator\n",
        "from tensorflow.keras.optimizers import RMSprop, Adam, SGD\n",
        "import sqlite3\n",
        "seed = 47\n",
        "BATCH_SIZE=120\n",
        "IMAGE_SIZE = (224,224)"
      ]
    },
    {
      "cell_type": "code",
      "source": [
        "def f1(y_true, y_pred): \n",
        "    true_positives = K.sum(K.round(K.clip(y_true * y_pred, 0, 1)))\n",
        "    possible_positives = K.sum(K.round(K.clip(y_true, 0, 1)))\n",
        "    predicted_positives = K.sum(K.round(K.clip(y_pred, 0, 1)))\n",
        "    precision = true_positives / (predicted_positives + K.epsilon())\n",
        "    recall = true_positives / (possible_positives + K.epsilon())\n",
        "    f1_val = 2*(precision*recall)/(precision+recall+K.epsilon())\n",
        "    \n",
        "    return f1_val"
      ],
      "metadata": {
        "id": "-UC1p1go4eWG"
      },
      "execution_count": 3,
      "outputs": []
    },
    {
      "cell_type": "code",
      "source": [
        "def plot_result(history, title):\n",
        "    fig, ax = plt.subplots(2,1)\n",
        "    ax[0].plot(history.history['loss'], color='b', label=\"train loss\")\n",
        "    ax[0].plot(history.history['val_loss'], color='r', label=\"val loss\",axes=ax[0])\n",
        "    legend = ax[0].legend()\n",
        "\n",
        "    ax[1].plot(history.history['accuracy'], color='b', label=\"train acc\")\n",
        "    ax[1].plot(history.history['val_accuracy'], color='r',label=\"val acc\")\n",
        "    legend = ax[1].legend()\n",
        "    ax[0].set_title(title)\n",
        "    plt.plot()"
      ],
      "metadata": {
        "id": "qqu4p_8m4iCI"
      },
      "execution_count": 4,
      "outputs": []
    },
    {
      "cell_type": "code",
      "source": [
        "def show_layers(model):\n",
        "    print('Name\\tOutput shape\\tActivation\\tInitializer')\n",
        "    for l in model.layers:\n",
        "        print('{0}({1})\\t{2}\\t{3}\\t{4}'\n",
        "            .format(l.name,\n",
        "              l.__class__.__name__,\n",
        "              l.output_shape,\n",
        "              l.activation.__name__ if hasattr(l, 'activation') else '<none>',\n",
        "              l.kernel_initializer.__class__.__name__ if hasattr(l, 'kernel_initializer') else '<none>'))\n",
        "\n",
        "\n",
        "def custom_summary(model):\n",
        "    model.summary()\n",
        "    show_layers(model)"
      ],
      "metadata": {
        "id": "F4K9ZOtS4lEK"
      },
      "execution_count": 5,
      "outputs": []
    },
    {
      "cell_type": "code",
      "source": [
        "inputFolder = '/content/drive/MyDrive/technodataset/img'\n",
        "os.mkdir('/content/drive/MyDrive/technodataset/Resizedimg')\n",
        "\n",
        "total_images = 50008\n",
        "i = 0\n",
        "\n",
        "for img in glob.glob(inputFolder + \"/*.jpg\"):\n",
        "    image = cv2.imread(img)\n",
        "    if image is not None :\n",
        "        imgResized = cv2.resize(image,(224,224))\n",
        "    pathimage = \"/content/drive/MyDrive/technodataset/Resizedimg\" + img[40:]\n",
        "    cv2.imwrite(pathimage,imgResized)\n",
        "    i += 1\n",
        "    if i % int(total_images * 0.1) == 0:\n",
        "      print(\"Resizing image {}/{} ({:.2f}%)\".format(i, total_images, (i/total_images)*100))\n",
        "\n",
        "cv2.destroyAllWindows()"
      ],
      "metadata": {
        "id": "cVqUiWO0BFT_"
      },
      "execution_count": null,
      "outputs": []
    },
    {
      "cell_type": "code",
      "source": [
        "inputFolder = '/content/drive/MyDrive/technodataset/Resizedimg'\n",
        "os.mkdir('/content/drive/MyDrive/technodataset/Normimg')\n",
        "i=0\n",
        "total_images = 50007\n",
        "for img in glob.glob(inputFolder + \"/*.jpg\"):\n",
        "    images = cv2.imread(img)\n",
        "    norm_img = np.zeros((224,224))\n",
        "    final_img = cv2.normalize(images, norm_img , 0 ,1, cv2.NORM_MINMAX)\n",
        "    pathimage = \"/content/drive/MyDrive/technodataset/Normimg\" + img[47:]\n",
        "    cv2.imwrite(pathimage,final_img )\n",
        "    i+=1\n",
        "    if i % int(total_images * 0.1) == 0:\n",
        "      print(\"Normalizing image {}/{} ({:.2f}%)\".format(i, total_images, (i/total_images)*100))\n",
        "    \n",
        "cv2.destroyAllWindows"
      ],
      "metadata": {
        "id": "6QZYzraiIc9u"
      },
      "execution_count": null,
      "outputs": []
    },
    {
      "cell_type": "code",
      "source": [
        "conn = sqlite3.connect(\"/content/drive/MyDrive/metadata.sqlite\")\n",
        "\n",
        "df = pd.read_sql_query(\"\"\"SELECT json_extract(data, '$.BIN_FCSKU_DATA') AS data,\n",
        "                        json_extract(data, '$.EXPECTED_QUANTITY') AS qnty,\n",
        "                        img_id AS img_id\n",
        "                        FROM metadata\n",
        "                        ORDER BY img_id;\n",
        "                        \"\"\", conn)\n",
        "print(df['img_id'])\n",
        "df.data = df.data.apply(json.loads)\n",
        "y=df['qnty'].to_numpy()\n"
      ],
      "metadata": {
        "id": "EHRI09uI7J2X",
        "colab": {
          "base_uri": "https://localhost:8080/"
        },
        "outputId": "6d5e0add-e005-437b-ac11-41cca1231e92"
      },
      "execution_count": 6,
      "outputs": [
        {
          "output_type": "stream",
          "name": "stdout",
          "text": [
            "0        00005\n",
            "1        00008\n",
            "2        00013\n",
            "3        00015\n",
            "4        00022\n",
            "         ...  \n",
            "49995    99930\n",
            "49996    99939\n",
            "49997    99952\n",
            "49998    99979\n",
            "49999    99999\n",
            "Name: img_id, Length: 50000, dtype: object\n"
          ]
        }
      ]
    },
    {
      "cell_type": "code",
      "source": [
        "uniq = np.unique(y[:5000])\n",
        "hist, bins = np.histogram(y[:100], bins=40)\n",
        "plt.hist(y[:100])\n",
        "#plt.xlim(0, 50)\n",
        "plt.show()\n"
      ],
      "metadata": {
        "id": "YYXdHUzFIrM3",
        "colab": {
          "base_uri": "https://localhost:8080/",
          "height": 265
        },
        "outputId": "59ff6624-34c6-420b-aa46-421bae687c41"
      },
      "execution_count": 7,
      "outputs": [
        {
          "output_type": "display_data",
          "data": {
            "text/plain": [
              "<Figure size 432x288 with 1 Axes>"
            ],
            "image/png": "[encoded data removed]"
          },
          "metadata": {
            "needs_background": "light"
          }
        }
      ]
    },
    {
      "cell_type": "code",
      "source": [
        "y = y[:5000]\n",
        "df = df[:5000]\n",
        "#y = np.delete(y, np.where(y == 48))"
      ],
      "metadata": {
        "id": "37Llebni5DLY"
      },
      "execution_count": 8,
      "outputs": []
    },
    {
      "cell_type": "code",
      "source": [
        "np.unique(y)\n",
        "len(df)"
      ],
      "metadata": {
        "colab": {
          "base_uri": "https://localhost:8080/"
        },
        "id": "ecJ2CI3m5z3H",
        "outputId": "85c8a5c4-579f-4bfe-eca6-61c0f72a11b3"
      },
      "execution_count": 9,
      "outputs": [
        {
          "output_type": "execute_result",
          "data": {
            "text/plain": [
              "5000"
            ]
          },
          "metadata": {},
          "execution_count": 9
        }
      ]
    },
    {
      "cell_type": "code",
      "source": [
        "unique, counts = np.unique(y, return_counts=True)\n",
        "for i in range(len(unique)) :\n",
        "  if counts[i] == 1 :\n",
        "    index = np.where(y == unique[i])\n",
        "    df = df.drop(index[0].tolist(), axis=0)\n",
        "    y = np.delete(y, index)\n",
        "#df = df.drop(53,axis=0)   "
      ],
      "metadata": {
        "id": "dRh-uqVIcV7l"
      },
      "execution_count": 10,
      "outputs": []
    },
    {
      "cell_type": "code",
      "source": [
        "np.unique(y)"
      ],
      "metadata": {
        "colab": {
          "base_uri": "https://localhost:8080/"
        },
        "id": "aAGJDifn6GUF",
        "outputId": "6052c23f-36a3-4089-9d3e-2c7d4eeb5fce"
      },
      "execution_count": 11,
      "outputs": [
        {
          "output_type": "execute_result",
          "data": {
            "text/plain": [
              "array([ 0,  1,  2,  3,  4,  5,  6,  7,  8,  9, 10, 11, 12, 13, 14, 15, 16,\n",
              "       17, 18, 19, 20, 21, 23, 24, 25, 26, 28, 29, 35, 37])"
            ]
          },
          "metadata": {},
          "execution_count": 11
        }
      ]
    },
    {
      "cell_type": "code",
      "source": [
        "len(y)"
      ],
      "metadata": {
        "colab": {
          "base_uri": "https://localhost:8080/"
        },
        "id": "hwUJJvVdC6ul",
        "outputId": "7473dade-29fa-440a-de68-faf5afe65a8d"
      },
      "execution_count": 12,
      "outputs": [
        {
          "output_type": "execute_result",
          "data": {
            "text/plain": [
              "4991"
            ]
          },
          "metadata": {},
          "execution_count": 12
        }
      ]
    },
    {
      "cell_type": "code",
      "source": [
        "images=list()\n",
        "i=0\n",
        "total_images = 49977\n",
        "for img_id in df['img_id'] :\n",
        "  path = '/content/drive/MyDrive/technodataset/Resizedimg/' +str(img_id) + '.jpg' \n",
        "  image = cv2.imread(path)\n",
        "  images.append(image.tolist())\n",
        "  i+=1\n",
        "  if i % int(total_images * 0.1) == 0:\n",
        "    print(\"Processing image {}/{} ({:.2f}%)\".format(i, total_images, (i/total_images)*100))"
      ],
      "metadata": {
        "id": "pvBafVxVLrM9"
      },
      "execution_count": null,
      "outputs": []
    },
    {
      "cell_type": "code",
      "source": [
        "df['img_id']"
      ],
      "metadata": {
        "colab": {
          "base_uri": "https://localhost:8080/"
        },
        "id": "nCc3UE02-9iz",
        "outputId": "1f7a80e7-dc79-4333-deab-2cccd660420e"
      },
      "execution_count": null,
      "outputs": [
        {
          "output_type": "execute_result",
          "data": {
            "text/plain": [
              "0      00005\n",
              "2      00013\n",
              "4      00022\n",
              "5      00024\n",
              "6      00048\n",
              "       ...  \n",
              "195    01920\n",
              "196    01921\n",
              "197    01928\n",
              "198    01963\n",
              "199    01973\n",
              "Name: img_id, Length: 196, dtype: object"
            ]
          },
          "metadata": {},
          "execution_count": 16
        }
      ]
    },
    {
      "cell_type": "code",
      "source": [
        "len(images)"
      ],
      "metadata": {
        "colab": {
          "base_uri": "https://localhost:8080/"
        },
        "id": "BESojY6e_OtF",
        "outputId": "bfa7ce52-5040-4a01-976e-dc842ab71941"
      },
      "execution_count": null,
      "outputs": [
        {
          "output_type": "execute_result",
          "data": {
            "text/plain": [
              "196"
            ]
          },
          "metadata": {},
          "execution_count": 17
        }
      ]
    },
    {
      "cell_type": "code",
      "source": [
        "nb = np.max(y)+1\n",
        "Y = keras.utils.to_categorical(y, num_classes=nb)\n",
        "X_train, X_test, y_train, y_test  = train_test_split(images, Y, test_size=0.1,stratify=Y)\n",
        "X_train ,X_val, y_train, y_val = train_test_split(X_train, y_train, test_size=0.2,stratify=y_train)"
      ],
      "metadata": {
        "id": "8HCrEsQqPLni"
      },
      "execution_count": null,
      "outputs": []
    },
    {
      "cell_type": "code",
      "source": [
        "len(X_train)"
      ],
      "metadata": {
        "colab": {
          "base_uri": "https://localhost:8080/"
        },
        "id": "NqNmDp6EyF9I",
        "outputId": "902e10a6-c981-40c8-c191-b982aeecf579"
      },
      "execution_count": null,
      "outputs": [
        {
          "output_type": "execute_result",
          "data": {
            "text/plain": [
              "140"
            ]
          },
          "metadata": {},
          "execution_count": 19
        }
      ]
    },
    {
      "cell_type": "code",
      "source": [
        "device_name = tf.test.gpu_device_name()\n",
        "if device_name != '/device:GPU:0':\n",
        "    print('GPU device not found')\n",
        "print('Found GPU at: {}'.format(device_name))"
      ],
      "metadata": {
        "id": "kD60b_EuVbRH"
      },
      "execution_count": null,
      "outputs": []
    },
    {
      "cell_type": "code",
      "source": [
        "plt.imshow(X_test[1])\n",
        "print(y_test[1])\n",
        "print(X_test[1])"
      ],
      "metadata": {
        "colab": {
          "base_uri": "https://localhost:8080/",
          "height": 1000
        },
        "id": "y-ZHTCS0_p-5",
        "outputId": "a14313be-b0bb-496b-d17e-8059f9631455"
      },
      "execution_count": null,
      "outputs": [
        {
          "output_type": "stream",
          "name": "stdout",
          "text": [
            "[0. 0. 0. 0. 0. 0. 0. 0. 0. 0. 1. 0. 0. 0. 0. 0. 0. 0.]\n",
            "[[[ 97 111 129]\n",
            "  [100 114 132]\n",
            "  [ 99 112 128]\n",
            "  ...\n",
            "  [108 164 193]\n",
            "  [106 162 191]\n",
            "  [104 160 189]]\n",
            "\n",
            " [[ 95 109 127]\n",
            "  [ 98 112 130]\n",
            "  [ 99 112 128]\n",
            "  ...\n",
            "  [106 162 191]\n",
            "  [105 160 191]\n",
            "  [106 162 191]]\n",
            "\n",
            " [[ 97 111 129]\n",
            "  [ 98 112 130]\n",
            "  [ 99 112 128]\n",
            "  ...\n",
            "  [101 155 186]\n",
            "  [102 155 188]\n",
            "  [104 158 189]]\n",
            "\n",
            " ...\n",
            "\n",
            " [[ 47  55  68]\n",
            "  [ 46  54  67]\n",
            "  [ 41  49  62]\n",
            "  ...\n",
            "  [ 85  96 110]\n",
            "  [ 85  96 110]\n",
            "  [ 85  96 110]]\n",
            "\n",
            " [[ 81  87 100]\n",
            "  [ 80  86  99]\n",
            "  [ 86  94 107]\n",
            "  ...\n",
            "  [ 85  96 110]\n",
            "  [ 85  96 110]\n",
            "  [ 85  96 110]]\n",
            "\n",
            " [[101 107 120]\n",
            "  [104 110 123]\n",
            "  [ 99 107 120]\n",
            "  ...\n",
            "  [ 84  95 109]\n",
            "  [ 84  95 109]\n",
            "  [ 84  95 109]]]\n"
          ]
        },
        {
          "output_type": "display_data",
          "data": {
            "text/plain": [
              "<Figure size 432x288 with 1 Axes>"
            ],
            "image/png": "[encoded data removed]"
          },
          "metadata": {
            "needs_background": "light"
          }
        }
      ]
    },
    {
      "cell_type": "code",
      "source": [
        "X_train1 = []\n",
        "for x in X_train :\n",
        "  X_train1.append(x.tolist())"
      ],
      "metadata": {
        "id": "GmyBlnFQosTW"
      },
      "execution_count": null,
      "outputs": []
    },
    {
      "cell_type": "code",
      "source": [
        "type(X_train1[0])"
      ],
      "metadata": {
        "colab": {
          "base_uri": "https://localhost:8080/"
        },
        "id": "lfYZ7BMHpTA3",
        "outputId": "a9cd6be9-48f4-4771-fe62-fb63db497795"
      },
      "execution_count": null,
      "outputs": [
        {
          "output_type": "execute_result",
          "data": {
            "text/plain": [
              "list"
            ]
          },
          "metadata": {},
          "execution_count": 25
        }
      ]
    },
    {
      "cell_type": "code",
      "source": [
        "train_datagen = ImageDataGenerator()\n",
        "train_generator = train_datagen.flow(np.array(X_train).astype(np.float32)/255.0*2-1,\n",
        "                                     y_train,\n",
        "                                     batch_size=BATCH_SIZE,\n",
        "                                     shuffle=False,\n",
        "                                     seed=seed)\n",
        "steps_per_epoch= round(np.array(X_train).shape[0] / BATCH_SIZE)"
      ],
      "metadata": {
        "id": "4h3Z0xZApYXC"
      },
      "execution_count": null,
      "outputs": []
    },
    {
      "cell_type": "code",
      "source": [
        "train_generator"
      ],
      "metadata": {
        "id": "GWzPgutTpcv3",
        "outputId": "d7a4b7a3-3bc4-4df9-f6d5-687d4bbe0e16",
        "colab": {
          "base_uri": "https://localhost:8080/"
        }
      },
      "execution_count": null,
      "outputs": [
        {
          "output_type": "execute_result",
          "data": {
            "text/plain": [
              "<keras.preprocessing.image.NumpyArrayIterator at 0x7f1ad9fdfaf0>"
            ]
          },
          "metadata": {},
          "execution_count": 27
        }
      ]
    },
    {
      "cell_type": "code",
      "source": [],
      "metadata": {
        "id": "g222HxWhpgRH"
      },
      "execution_count": null,
      "outputs": []
    },
    {
      "cell_type": "code",
      "source": [
        "train_datagen = ImageDataGenerator()\n",
        "train_generator = train_datagen.flow(np.array(X_train).astype(np.float32)/255.0*2-1,\n",
        "                                     y_train,\n",
        "                                     batch_size=BATCH_SIZE,\n",
        "                                     shuffle=False,\n",
        "                                     seed=seed)\n",
        "steps_per_epoch= round(np.array(X_train).shape[0] / BATCH_SIZE)\n",
        "#del X_train,y_train\n",
        "val_datagen = ImageDataGenerator()\n",
        "val_generator = val_datagen.flow(np.array(X_val).astype(np.float32)/255.0*2-1,\n",
        "                                 y_val,\n",
        "                                 batch_size=BATCH_SIZE,\n",
        "                                 shuffle=False,\n",
        "                                 seed=seed)\n",
        "#del X_val,y_val\n",
        "\n",
        "test_datagen = ImageDataGenerator()\n",
        "test_generator = test_datagen.flow(np.array(X_test).astype(np.float32)/255.0*2-1,\n",
        "                                   y_test,\n",
        "                                   batch_size=BATCH_SIZE,\n",
        "                                   shuffle=False,\n",
        "                                   seed=seed)\n",
        "#del X_test,y_test\n",
        "\n",
        "metrics = ['accuracy', f1, AUC(name='auc')]"
      ],
      "metadata": {
        "id": "KpXJCfLMF97F",
        "colab": {
          "base_uri": "https://localhost:8080/",
          "height": 376
        },
        "outputId": "5f07d291-21da-458d-dfdc-4702098c2217"
      },
      "execution_count": null,
      "outputs": [
        {
          "output_type": "stream",
          "name": "stderr",
          "text": [
            "<ipython-input-23-c808a70ce789>:10: VisibleDeprecationWarning: Creating an ndarray from ragged nested sequences (which is a list-or-tuple of lists-or-tuples-or ndarrays with different lengths or shapes) is deprecated. If you meant to do this, you must specify 'dtype=object' when creating the ndarray.\n",
            "  val_generator = val_datagen.flow(np.array(X_val).astype(np.float32)/255.0*2-1,\n"
          ]
        },
        {
          "output_type": "error",
          "ename": "ValueError",
          "evalue": "ignored",
          "traceback": [
            "\u001b[0;31m---------------------------------------------------------------------------\u001b[0m",
            "\u001b[0;31mTypeError\u001b[0m                                 Traceback (most recent call last)",
            "\u001b[0;31mTypeError\u001b[0m: only size-1 arrays can be converted to Python scalars",
            "\nThe above exception was the direct cause of the following exception:\n",
            "\u001b[0;31mValueError\u001b[0m                                Traceback (most recent call last)",
            "\u001b[0;32m<ipython-input-23-c808a70ce789>\u001b[0m in \u001b[0;36m<module>\u001b[0;34m\u001b[0m\n\u001b[1;32m      8\u001b[0m \u001b[0;31m#del X_train,y_train\u001b[0m\u001b[0;34m\u001b[0m\u001b[0;34m\u001b[0m\u001b[0;34m\u001b[0m\u001b[0m\n\u001b[1;32m      9\u001b[0m \u001b[0mval_datagen\u001b[0m \u001b[0;34m=\u001b[0m \u001b[0mImageDataGenerator\u001b[0m\u001b[0;34m(\u001b[0m\u001b[0;34m)\u001b[0m\u001b[0;34m\u001b[0m\u001b[0;34m\u001b[0m\u001b[0m\n\u001b[0;32m---> 10\u001b[0;31m val_generator = val_datagen.flow(np.array(X_val).astype(np.float32)/255.0*2-1,\n\u001b[0m\u001b[1;32m     11\u001b[0m                                  \u001b[0my_val\u001b[0m\u001b[0;34m,\u001b[0m\u001b[0;34m\u001b[0m\u001b[0;34m\u001b[0m\u001b[0m\n\u001b[1;32m     12\u001b[0m                                  \u001b[0mbatch_size\u001b[0m\u001b[0;34m=\u001b[0m\u001b[0mBATCH_SIZE\u001b[0m\u001b[0;34m,\u001b[0m\u001b[0;34m\u001b[0m\u001b[0;34m\u001b[0m\u001b[0m\n",
            "\u001b[0;31mValueError\u001b[0m: setting an array element with a sequence."
          ]
        }
      ]
    },
    {
      "cell_type": "code",
      "source": [
        "from keras.applications.inception_v3 import InceptionV3"
      ],
      "metadata": {
        "id": "ShIr5zv0GKpp"
      },
      "execution_count": null,
      "outputs": []
    },
    {
      "cell_type": "code",
      "source": [
        "base_model = InceptionV3(input_shape=(224,224,3),include_top=True, weights=None,classes=18)"
      ],
      "metadata": {
        "id": "sJ5cDGVOGRXk"
      },
      "execution_count": null,
      "outputs": []
    },
    {
      "cell_type": "code",
      "source": [
        "from timeit import default_timer as timer\n",
        "model = Sequential()\n",
        "model.add(base_model)\n",
        "model.compile(loss=CategoricalCrossentropy(),optimizer=SGD(learning_rate=0.0005),metrics=metrics)\n",
        "\n",
        "start_time = timer()    \n",
        "history = model.fit(train_generator,validation_data=val_generator,epochs=10,steps_per_epoch=steps_per_epoch)\n",
        "end_time = timer()\n",
        "    \n",
        "custom_summary(model)\n",
        "print('Trained in {0:.2f} minutes'.format((end_time - start_time) / 60))\n",
        "    \n",
        "acc=history.history['accuracy'][-1]\n",
        "test_acc = model.evaluate_generator(test_generator)[1]\n",
        "    \n",
        "print('Results at the end of training: acc={0:.02f}%, test_acc={1:.02f}%'.format(acc*100, test_acc*100))\n",
        "\n",
        "plot_result(history,\"inception v3\")\n"
      ],
      "metadata": {
        "colab": {
          "base_uri": "https://localhost:8080/",
          "height": 943
        },
        "id": "TK92T3PSGRxX",
        "outputId": "ef4f666a-bcca-455d-8815-fe84e1f79471"
      },
      "execution_count": null,
      "outputs": [
        {
          "output_type": "stream",
          "name": "stdout",
          "text": [
            "Epoch 1/10\n",
            "1/1 [==============================] - 26s 26s/step - loss: 3.3178 - accuracy: 0.1000 - f1: 0.0000e+00 - auc: 0.4390 - val_loss: 2.8899 - val_accuracy: 0.0278 - val_f1: 0.0000e+00 - val_auc: 0.5294\n",
            "Epoch 2/10\n",
            "1/1 [==============================] - 89s 89s/step - loss: 2.8455 - accuracy: 0.0667 - f1: 0.0000e+00 - auc: 0.6415 - val_loss: 2.8893 - val_accuracy: 0.0278 - val_f1: 0.0000e+00 - val_auc: 0.5441\n",
            "Epoch 3/10\n",
            "1/1 [==============================] - 66s 66s/step - loss: 2.8392 - accuracy: 0.0667 - f1: 0.0000e+00 - auc: 0.6360 - val_loss: 2.8888 - val_accuracy: 0.0278 - val_f1: 0.0000e+00 - val_auc: 0.6185\n",
            "Epoch 4/10\n",
            "1/1 [==============================] - 14s 14s/step - loss: 3.2150 - accuracy: 0.0500 - f1: 0.0000e+00 - auc: 0.4928 - val_loss: 2.8882 - val_accuracy: 0.0278 - val_f1: 0.0000e+00 - val_auc: 0.5882\n",
            "Epoch 5/10\n",
            "1/1 [==============================] - 14s 14s/step - loss: 3.2140 - accuracy: 0.0500 - f1: 0.0000e+00 - auc: 0.4551 - val_loss: 2.8877 - val_accuracy: 0.0278 - val_f1: 0.0000e+00 - val_auc: 0.5882\n",
            "Epoch 6/10\n",
            "1/1 [==============================] - 14s 14s/step - loss: 3.1008 - accuracy: 0.0500 - f1: 0.0000e+00 - auc: 0.5034 - val_loss: 2.8872 - val_accuracy: 0.0278 - val_f1: 0.0000e+00 - val_auc: 0.5882\n",
            "Epoch 7/10\n",
            "1/1 [==============================] - 68s 68s/step - loss: 2.8244 - accuracy: 0.1000 - f1: 0.0000e+00 - auc: 0.6370 - val_loss: 2.8866 - val_accuracy: 0.0278 - val_f1: 0.0000e+00 - val_auc: 0.5882\n",
            "Epoch 8/10\n",
            "1/1 [==============================] - 73s 73s/step - loss: 2.7853 - accuracy: 0.1000 - f1: 0.0000e+00 - auc: 0.6524 - val_loss: 2.8861 - val_accuracy: 0.0278 - val_f1: 0.0000e+00 - val_auc: 0.5882\n",
            "Epoch 9/10\n",
            "1/1 [==============================] - 14s 14s/step - loss: 3.0322 - accuracy: 0.1000 - f1: 0.0000e+00 - auc: 0.5415 - val_loss: 2.8855 - val_accuracy: 0.0278 - val_f1: 0.0000e+00 - val_auc: 0.5882\n",
            "Epoch 10/10\n",
            "1/1 [==============================] - 66s 66s/step - loss: 2.8012 - accuracy: 0.1000 - f1: 0.0000e+00 - auc: 0.6456 - val_loss: 2.8849 - val_accuracy: 0.0278 - val_f1: 0.0000e+00 - val_auc: 0.5882\n",
            "Model: \"sequential_1\"\n",
            "_________________________________________________________________\n",
            " Layer (type)                Output Shape              Param #   \n",
            "=================================================================\n",
            " inception_v3 (Functional)   (None, 18)                21839666  \n",
            "                                                                 \n",
            "=================================================================\n",
            "Total params: 21,839,666\n",
            "Trainable params: 21,805,234\n",
            "Non-trainable params: 34,432\n",
            "_________________________________________________________________\n",
            "Name\tOutput shape\tActivation\tInitializer\n",
            "inception_v3(Functional)\t(None, 18)\t<none>\t<none>\n",
            "Trained in 8.05 minutes\n"
          ]
        },
        {
          "output_type": "stream",
          "name": "stderr",
          "text": [
            "<ipython-input-52-4e1c6a6d0fc8>:14: UserWarning: `Model.evaluate_generator` is deprecated and will be removed in a future version. Please use `Model.evaluate`, which supports generators.\n",
            "  test_acc = model.evaluate_generator(test_generator)[1]\n"
          ]
        },
        {
          "output_type": "stream",
          "name": "stdout",
          "text": [
            "Results at the end of training: acc=10.00%, test_acc=5.00%\n"
          ]
        },
        {
          "output_type": "display_data",
          "data": {
            "text/plain": [
              "<Figure size 432x288 with 2 Axes>"
            ],
            "image/png": "[encoded data removed]"
          },
          "metadata": {
            "needs_background": "light"
          }
        }
      ]
    },
    {
      "cell_type": "code",
      "source": [
        "import seaborn as sns\n",
        "ypred = model.predict(test_generator)\n",
        "ypred = np.argmax(ypred, axis=1)\n",
        "ytest = np.argmax(y_test, axis=1)\n",
        "\n",
        "cf_matrix = confusion_matrix(ytest, ypred)\n",
        "\n",
        "plt.figure(figsize=(6,6))\n",
        "ax = sns.heatmap(cf_matrix, annot=True, fmt='g')\n",
        "plt.show()"
      ],
      "metadata": {
        "id": "25caLfxFJ8Ru"
      },
      "execution_count": null,
      "outputs": []
    }
  ]
}